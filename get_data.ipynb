{
 "cells": [
  {
   "cell_type": "code",
   "execution_count": 1,
   "metadata": {},
   "outputs": [],
   "source": [
    "import pandas as pd\n",
    "import numpy as np\n",
    "from natasha import NamesExtractor\n",
    "from rutermextract import TermExtractor\n",
    "import re\n",
    "from stop_words import get_stop_words\n",
    "import pymorphy2 as pm2\n",
    "import nltk\n",
    "from datetime import datetime\n",
    "import tzlocal "
   ]
  },
  {
   "cell_type": "code",
   "execution_count": 15,
   "metadata": {},
   "outputs": [],
   "source": [
    "term_ex = TermExtractor()\n",
    "names_ex = NamesExtractor()\n",
    "pymorph = pm2.MorphAnalyzer()\n",
    "stop_words = get_stop_words('russian')\n",
    "stop_words.extend(['ишо', 'вот'])\n",
    "\n",
    "\n",
    "def find_date(text):\n",
    "    unix_timestamp = float(text)\n",
    "    local_timezone = tzlocal.get_localzone() # get pytz timezone\n",
    "    return datetime.fromtimestamp(unix_timestamp, local_timezone)\n",
    "\n",
    "\n",
    "def normilize_text(text):\n",
    "    result = ''\n",
    "    for word in text.split(' '):\n",
    "        result += ' {}'.format(pymorph.parse(word)[0].normal_form)\n",
    "    return result\n",
    "\n",
    "\n",
    "def generate_collocations(tokens):\n",
    "    bigram_measures = nltk.collocations.BigramAssocMeasures()\n",
    "    finder = nltk.collocations.TrigramCollocationFinder.from_words(tokens)\n",
    "    colls = finder.nbest(bigram_measures.student_t, 10)\n",
    "    colls = [{k: finder.ngram_fd[k]} for k in colls]\n",
    "    return colls \n",
    "\n",
    "\n",
    "def find_names(text):\n",
    "    names = []\n",
    "    for match in names_ex(text):\n",
    "        name = '{} {} {}'.format(match.fact.first, match.fact.middle, match.fact.last)\n",
    "        name = name.replace('None', '')\n",
    "        name = name.lstrip()\n",
    "        names.append(name)\n",
    "    return names\n",
    "\n",
    "\n",
    "def find_key_words(text):\n",
    "    terms = []\n",
    "    for term in term_ex(text, limit=3):\n",
    "        terms.append(term.normalized)\n",
    "    return ' '.join(terms)\n",
    "\n",
    "\n",
    "def exclude_stop_words(text):\n",
    "    words = []\n",
    "    for word in text.split():\n",
    "        if not(word in stop_words):\n",
    "            words.append(word)\n",
    "    return ' '.join(words)\n",
    "\n",
    "\n",
    "def text_prepocess(text):\n",
    "    reg = re.compile('[^а-яА-я ]')\n",
    "    text = reg.sub('', text)\n",
    "    text = exclude_stop_words(text)\n",
    "    text = text.lower()\n",
    "    words = []\n",
    "    for word in text.split():\n",
    "        if len(word) > 2:\n",
    "            words.append(word.strip())\n",
    "    return ' '.join(words)\n",
    "\n",
    "\n",
    "def make_data(path):\n",
    "    data = pd.read_csv(path)\n",
    "    data = data[['commentlikescount', 'commenttext', 'post_date']]\n",
    "    data['commenttext'] = data['commenttext'].apply(str)\n",
    "    data['names'] = data['commenttext'].apply(find_names)\n",
    "    data['commenttext'] = data['commenttext'].apply(text_prepocess)\n",
    "    data['keywords'] = data['commenttext'].apply(find_key_words)\n",
    "    data['keywords'] = data['keywords'].apply(normilize_text)\n",
    "    data['post_date'] = data['post_date'].apply(find_date)\n",
    "    \n",
    "    return data\n",
    "\n",
    "    \n",
    "\n"
   ]
  },
  {
   "cell_type": "code",
   "execution_count": 16,
   "metadata": {},
   "outputs": [],
   "source": [
    "path = \"/Users/ba/Documents/DATA_CULTURE_HACK/rtfull.csv\""
   ]
  },
  {
   "cell_type": "code",
   "execution_count": null,
   "metadata": {},
   "outputs": [
    {
     "name": "stderr",
     "output_type": "stream",
     "text": [
      "/Users/ba/anaconda3/lib/python3.7/site-packages/IPython/core/interactiveshell.py:3185: DtypeWarning: Columns (1) have mixed types. Specify dtype option on import or set low_memory=False.\n",
      "  if (yield from self.run_code(code, result)):\n"
     ]
    }
   ],
   "source": [
    "new_data = make_data(path)"
   ]
  },
  {
   "cell_type": "code",
   "execution_count": null,
   "metadata": {},
   "outputs": [],
   "source": []
  },
  {
   "cell_type": "code",
   "execution_count": null,
   "metadata": {},
   "outputs": [],
   "source": []
  },
  {
   "cell_type": "code",
   "execution_count": null,
   "metadata": {},
   "outputs": [],
   "source": []
  }
 ],
 "metadata": {
  "kernelspec": {
   "display_name": "Python 3",
   "language": "python",
   "name": "python3"
  },
  "language_info": {
   "codemirror_mode": {
    "name": "ipython",
    "version": 3
   },
   "file_extension": ".py",
   "mimetype": "text/x-python",
   "name": "python",
   "nbconvert_exporter": "python",
   "pygments_lexer": "ipython3",
   "version": "3.7.1"
  }
 },
 "nbformat": 4,
 "nbformat_minor": 2
}
