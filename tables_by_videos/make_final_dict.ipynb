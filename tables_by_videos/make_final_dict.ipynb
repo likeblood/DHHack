{
 "cells": [
  {
   "cell_type": "code",
   "execution_count": null,
   "metadata": {},
   "outputs": [],
   "source": [
    "import pandas as pd\n",
    "\n",
    "\n",
    "navalnydf_2019_08_01, navalnydf_2019_07_01, navalnydf_2019_07_18 = pd.read_csv('navalnydf_2019_08_01.csv', index_col=0),\\\n",
    "                        pd.read_csv('navalnydf_2019_07_01.csv', index_col=0),\\\n",
    "                        pd.read_csv('navalnydf_2019_07_18.csv', index_col=0)\n",
    "navalny_list_of_tables = [navalnydf_2019_08_01, navalnydf_2019_07_01, navalnydf_2019_07_18]"
   ]
  },
  {
   "cell_type": "code",
   "execution_count": 24,
   "metadata": {},
   "outputs": [],
   "source": [
    "solovievdf_2019_07_29, solovievdf_2019_08_05, solovievdf_2019_08_26, solovievdf_2019_08_28 = pd.read_csv('solovievdf_2019_07_29.csv', index_col=0),\\\n",
    "                        pd.read_csv('solovievdf_2019_08_05.csv', index_col=0),\\\n",
    "                        pd.read_csv('solovievdf_2019_08_26.csv', index_col=0), \\\n",
    "                        pd.read_csv('solovievdf_2019_08_28.csv', index_col=0)\n",
    "soloviev_list_of_tables = [solovievdf_2019_07_29, solovievdf_2019_08_05, solovievdf_2019_08_26, solovievdf_2019_08_28]"
   ]
  },
  {
   "cell_type": "code",
   "execution_count": 26,
   "metadata": {},
   "outputs": [],
   "source": [
    "import pickle\n",
    "d = {}\n",
    "d['navalny'] = navalny_list_of_tables\n",
    "d['soloviev'] = soloviev_list_of_tables"
   ]
  },
  {
   "cell_type": "code",
   "execution_count": 30,
   "metadata": {},
   "outputs": [],
   "source": [
    "with open('full_stats.pickle', 'wb') as fout:\n",
    "    pickle.dump(d, fout)"
   ]
  },
  {
   "cell_type": "code",
   "execution_count": null,
   "metadata": {},
   "outputs": [],
   "source": []
  }
 ],
 "metadata": {
  "kernelspec": {
   "display_name": "Python 3",
   "language": "python",
   "name": "python3"
  },
  "language_info": {
   "codemirror_mode": {
    "name": "ipython",
    "version": 3
   },
   "file_extension": ".py",
   "mimetype": "text/x-python",
   "name": "python",
   "nbconvert_exporter": "python",
   "pygments_lexer": "ipython3",
   "version": "3.7.1"
  }
 },
 "nbformat": 4,
 "nbformat_minor": 2
}
