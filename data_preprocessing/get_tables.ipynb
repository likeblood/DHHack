{
 "cells": [
  {
   "cell_type": "code",
   "execution_count": 148,
   "metadata": {},
   "outputs": [],
   "source": [
    "import re\n",
    "import pandas as pd\n",
    "import numpy as np\n",
    "import matplotlib.pyplot as plt\n",
    "from natasha import NamesExtractor\n",
    "from rutermextract import TermExtractor\n",
    "import rutermextract\n",
    "from stop_words import get_stop_words\n",
    "\n",
    "    \n",
    "term_ex = TermExtractor()\n",
    "names_ex = NamesExtractor()\n",
    "stop_words = get_stop_words('russian')\n",
    "\n",
    "\n",
    "def sort_of_list_by_count(lst):\n",
    "    d = {}\n",
    "    for word in lst:\n",
    "        d[word] = 1 if word not in d.keys() else d[word]+1\n",
    "    sortedD = sorted(d.items(), key=lambda x: x[1], reverse=True)\n",
    "    \n",
    "    return [x[0] for x in sortedD]\n",
    "\n",
    "\n",
    "def data_to_text(data):\n",
    "    text_serie = data['text'].dropna()\n",
    "    text_serie.apply(lambda x: x.rstrip())\n",
    "    text = text_serie.to_string()\n",
    "    # text.lower()\n",
    "    regex = re.compile('[^а-яА-я]')\n",
    "    text = regex.sub(' ', text)\n",
    "    text = re.sub(\" +\", \" \", text)\n",
    "\n",
    "    reply_text_serie = data['reply.text'].dropna()\n",
    "    reply_text_serie.apply(lambda x: x.rstrip())\n",
    "    reply_text = reply_text_serie.to_string()\n",
    "    reply_text.lower()\n",
    "    regex = re.compile('[^а-яА-я]')\n",
    "    reply_text = regex.sub(' ', reply_text)\n",
    "    reply_text = re.sub(\" +\", \" \", reply_text)\n",
    "\n",
    "    return reply_text + text\n",
    "\n",
    "def exclude_stop_words(text):\n",
    "    words = []\n",
    "    for word in text.split():\n",
    "        if not(word in stop_words):\n",
    "            words.append(word)\n",
    "    return ' '.join(words)\n",
    "\n",
    "\n",
    "def text_analize(path):\n",
    "    date = str(path[-14:-4])\n",
    "    if path[-23] == 's':\n",
    "        data = pd.read_csv(\"/Users/ba/Documents/DHhack/getting_data/soloviev.csv\", index_col=0)\n",
    "    else:\n",
    "        data = pd.read_csv('/Users/ba/Documents/DHhack/getting_data/navalny.csv', index_col=0)\n",
    "    data['Date'] = data['Date'].apply(lambda x: x.split()[0])\n",
    "    text = data_to_text(pd.read_csv(path, index_col=0))\n",
    "    terms, names = [], []\n",
    "    text = exclude_stop_words(text)\n",
    "    for term in term_ex(text, limit=10):\n",
    "        terms.append((term.normalized, term.count))\n",
    "    for match in names_ex(text):\n",
    "        name = '{} {} {}'.format(match.fact.first, match.fact.middle, match.fact.last)\n",
    "        name = name.replace('None', '')\n",
    "        name = name.lstrip()\n",
    "        names.append(name)\n",
    "    names = set(names)\n",
    "    return [date, float(data[(data['Date'] == date) & (data['Comments'] > 2400)]['Likes']),\\\n",
    "            float(data[(data['Date'] == date) & (data['Comments'] > 2400)]['Dislikes']), \\\n",
    "            float(data[(data['Date'] == date) & (data['Comments'] > 2400)]['Comments']), \\\n",
    "            float(data[(data['Date'] == date) & (data['Comments'] > 2400)]['Views']), terms, \\\n",
    "            sort_of_list_by_count(names)[0:10]]\n",
    "\n",
    "\n",
    "def make_full_statistic_by_videos(videos):\n",
    "    lst = []\n",
    "    for video in videos:\n",
    "        lst.append(text_analize(video))\n",
    "        print(lst)\n",
    "    return lst\n",
    "\n",
    "\n",
    "def make_df(info):\n",
    "    \n",
    "    dates, likes, dislikes, comments, views, key_words, names = [], [], [], [], [], [], []\n",
    "\n",
    "    for i in range(len(info)):\n",
    "        dates.append(info[i][0])\n",
    "        likes.append(info[i][1])\n",
    "        dislikes.append(info[i][2])\n",
    "        comments.append(info[i][3])\n",
    "        views.append(info[i][4])\n",
    "        key_words.append(info[i][5])\n",
    "        names.append(info[i][6])\n",
    "    return pd.DataFrame({\n",
    "                    \"dates\": dates,\n",
    "                    \"likes\": likes,\n",
    "                    \"dislikes\": dislikes,\n",
    "                    \"comments\": comments,\n",
    "                    \"views\": views,\n",
    "                    \"key words\": key_words,\n",
    "                    \"propr names\": names\n",
    "                        })"
   ]
  },
  {
   "cell_type": "code",
   "execution_count": 142,
   "metadata": {},
   "outputs": [],
   "source": [
    "soloviev_videos = ['/Users/ba/Documents/DHhack/data_preprocessing/soloviev/soloviev_2019-07-29.csv',\\\n",
    "                    '/Users/ba/Documents/DHhack/data_preprocessing/soloviev/soloviev_2019-08-05.csv',\\\n",
    "                    '/Users/ba/Documents/DHhack/data_preprocessing/soloviev/soloviev_2019-08-26.csv',\\\n",
    "                    '/Users/ba/Documents/DHhack/data_preprocessing/soloviev/soloviev_2019-08-28.csv']"
   ]
  },
  {
   "cell_type": "code",
   "execution_count": 153,
   "metadata": {},
   "outputs": [],
   "source": [
    "navalny_videos = ['/Users/ba/Documents/DHhack/data_preprocessing/navalny/navalny_2019-07-01.csv',\\\n",
    "                 '/Users/ba/Documents/DHhack/data_preprocessing/navalny/navalny_2019-07-18.csv',\\\n",
    "                 '/Users/ba/Documents/DHhack/data_preprocessing/navalny/navalny_2019-08-01.csv']\n"
   ]
  },
  {
   "cell_type": "code",
   "execution_count": 121,
   "metadata": {},
   "outputs": [],
   "source": [
    "soloviev_info = make_full_statistic_by_videos(soloviev_videos)"
   ]
  },
  {
   "cell_type": "code",
   "execution_count": 149,
   "metadata": {},
   "outputs": [],
   "source": [
    "navalny_info = make_full_statistic_by_one_video(navalny_videos)"
   ]
  },
  {
   "cell_type": "code",
   "execution_count": 123,
   "metadata": {},
   "outputs": [],
   "source": [
    "navalny_df = make_df(navalny_info)"
   ]
  },
  {
   "cell_type": "code",
   "execution_count": 124,
   "metadata": {},
   "outputs": [],
   "source": [
    "soloviev_df = make_df(soloviev_info)"
   ]
  },
  {
   "cell_type": "code",
   "execution_count": 130,
   "metadata": {},
   "outputs": [],
   "source": [
    "soloviev_df.to_csv(\"soloviev_info.csv\")"
   ]
  },
  {
   "cell_type": "code",
   "execution_count": 154,
   "metadata": {},
   "outputs": [
    {
     "data": {
      "text/html": [
       "<div>\n",
       "<style scoped>\n",
       "    .dataframe tbody tr th:only-of-type {\n",
       "        vertical-align: middle;\n",
       "    }\n",
       "\n",
       "    .dataframe tbody tr th {\n",
       "        vertical-align: top;\n",
       "    }\n",
       "\n",
       "    .dataframe thead th {\n",
       "        text-align: right;\n",
       "    }\n",
       "</style>\n",
       "<table border=\"1\" class=\"dataframe\">\n",
       "  <thead>\n",
       "    <tr style=\"text-align: right;\">\n",
       "      <th></th>\n",
       "      <th>0</th>\n",
       "    </tr>\n",
       "  </thead>\n",
       "  <tbody>\n",
       "    <tr>\n",
       "      <th>0</th>\n",
       "      <td>2019-07-01</td>\n",
       "    </tr>\n",
       "    <tr>\n",
       "      <th>1</th>\n",
       "      <td>240362</td>\n",
       "    </tr>\n",
       "    <tr>\n",
       "      <th>2</th>\n",
       "      <td>4097</td>\n",
       "    </tr>\n",
       "    <tr>\n",
       "      <th>3</th>\n",
       "      <td>46459</td>\n",
       "    </tr>\n",
       "    <tr>\n",
       "      <th>4</th>\n",
       "      <td>2.82346e+06</td>\n",
       "    </tr>\n",
       "    <tr>\n",
       "      <th>5</th>\n",
       "      <td>[(алексей, 1109), (тренды, 1098), (видео, 1014...</td>\n",
       "    </tr>\n",
       "    <tr>\n",
       "      <th>6</th>\n",
       "      <td>[вит  , салим  маммаев, любимый, наталья  , вл...</td>\n",
       "    </tr>\n",
       "  </tbody>\n",
       "</table>\n",
       "</div>"
      ],
      "text/plain": [
       "                                                   0\n",
       "0                                         2019-07-01\n",
       "1                                             240362\n",
       "2                                               4097\n",
       "3                                              46459\n",
       "4                                        2.82346e+06\n",
       "5  [(алексей, 1109), (тренды, 1098), (видео, 1014...\n",
       "6  [вит  , салим  маммаев, любимый, наталья  , вл..."
      ]
     },
     "execution_count": 154,
     "metadata": {},
     "output_type": "execute_result"
    }
   ],
   "source": [
    "navalny_df.to_csv(\"navalny_info.csv\")"
   ]
  },
  {
   "cell_type": "code",
   "execution_count": 156,
   "metadata": {},
   "outputs": [
    {
     "data": {
      "text/html": [
       "<div>\n",
       "<style scoped>\n",
       "    .dataframe tbody tr th:only-of-type {\n",
       "        vertical-align: middle;\n",
       "    }\n",
       "\n",
       "    .dataframe tbody tr th {\n",
       "        vertical-align: top;\n",
       "    }\n",
       "\n",
       "    .dataframe thead th {\n",
       "        text-align: right;\n",
       "    }\n",
       "</style>\n",
       "<table border=\"1\" class=\"dataframe\">\n",
       "  <thead>\n",
       "    <tr style=\"text-align: right;\">\n",
       "      <th></th>\n",
       "      <th>0</th>\n",
       "    </tr>\n",
       "  </thead>\n",
       "  <tbody>\n",
       "    <tr>\n",
       "      <th>0</th>\n",
       "      <td>2019-07-18</td>\n",
       "    </tr>\n",
       "    <tr>\n",
       "      <th>1</th>\n",
       "      <td>247646</td>\n",
       "    </tr>\n",
       "    <tr>\n",
       "      <th>2</th>\n",
       "      <td>7384</td>\n",
       "    </tr>\n",
       "    <tr>\n",
       "      <th>3</th>\n",
       "      <td>54840</td>\n",
       "    </tr>\n",
       "    <tr>\n",
       "      <th>4</th>\n",
       "      <td>2.2236e+06</td>\n",
       "    </tr>\n",
       "    <tr>\n",
       "      <th>5</th>\n",
       "      <td>[(тренды, 1849), (москва, 1133), (видео, 1119)...</td>\n",
       "    </tr>\n",
       "    <tr>\n",
       "      <th>6</th>\n",
       "      <td>[чёрный, вова  сказочный, вит  , алекей  , вит...</td>\n",
       "    </tr>\n",
       "  </tbody>\n",
       "</table>\n",
       "</div>"
      ],
      "text/plain": [
       "                                                   0\n",
       "0                                         2019-07-18\n",
       "1                                             247646\n",
       "2                                               7384\n",
       "3                                              54840\n",
       "4                                         2.2236e+06\n",
       "5  [(тренды, 1849), (москва, 1133), (видео, 1119)...\n",
       "6  [чёрный, вова  сказочный, вит  , алекей  , вит..."
      ]
     },
     "execution_count": 156,
     "metadata": {},
     "output_type": "execute_result"
    }
   ],
   "source": []
  },
  {
   "cell_type": "code",
   "execution_count": 4,
   "metadata": {},
   "outputs": [
    {
     "ename": "NameError",
     "evalue": "name 'char_mask' is not defined",
     "output_type": "error",
     "traceback": [
      "\u001b[0;31m---------------------------------------------------------------------------\u001b[0m",
      "\u001b[0;31mNameError\u001b[0m                                 Traceback (most recent call last)",
      "\u001b[0;32m<ipython-input-4-b8211a0bc688>\u001b[0m in \u001b[0;36m<module>\u001b[0;34m\u001b[0m\n\u001b[1;32m      1\u001b[0m \u001b[0;32mfrom\u001b[0m \u001b[0mwordcloud\u001b[0m \u001b[0;32mimport\u001b[0m \u001b[0mWordCloud\u001b[0m\u001b[0;34m\u001b[0m\u001b[0;34m\u001b[0m\u001b[0m\n\u001b[1;32m      2\u001b[0m \u001b[0;34m\u001b[0m\u001b[0m\n\u001b[0;32m----> 3\u001b[0;31m \u001b[0mwc\u001b[0m \u001b[0;34m=\u001b[0m \u001b[0mWordCloud\u001b[0m\u001b[0;34m(\u001b[0m\u001b[0mbackground_color\u001b[0m\u001b[0;34m=\u001b[0m\u001b[0;34m\"white\"\u001b[0m\u001b[0;34m,\u001b[0m \u001b[0mmax_words\u001b[0m\u001b[0;34m=\u001b[0m\u001b[0;36m200\u001b[0m\u001b[0;34m,\u001b[0m \u001b[0mwidth\u001b[0m\u001b[0;34m=\u001b[0m\u001b[0;36m400\u001b[0m\u001b[0;34m,\u001b[0m \u001b[0mheight\u001b[0m\u001b[0;34m=\u001b[0m\u001b[0;36m400\u001b[0m\u001b[0;34m,\u001b[0m \u001b[0mmask\u001b[0m\u001b[0;34m=\u001b[0m\u001b[0mchar_mask\u001b[0m\u001b[0;34m,\u001b[0m \u001b[0mrandom_state\u001b[0m\u001b[0;34m=\u001b[0m\u001b[0;36m1\u001b[0m\u001b[0;34m)\u001b[0m\u001b[0;34m.\u001b[0m\u001b[0mgenerate\u001b[0m\u001b[0;34m(\u001b[0m\u001b[0mtext\u001b[0m\u001b[0;34m)\u001b[0m\u001b[0;34m\u001b[0m\u001b[0;34m\u001b[0m\u001b[0m\n\u001b[0m\u001b[1;32m      4\u001b[0m \u001b[0;31m# to recolour the image\u001b[0m\u001b[0;34m\u001b[0m\u001b[0;34m\u001b[0m\u001b[0;34m\u001b[0m\u001b[0m\n\u001b[1;32m      5\u001b[0m \u001b[0mplt\u001b[0m\u001b[0;34m.\u001b[0m\u001b[0mimshow\u001b[0m\u001b[0;34m(\u001b[0m\u001b[0mwc\u001b[0m\u001b[0;34m.\u001b[0m\u001b[0mrecolor\u001b[0m\u001b[0;34m(\u001b[0m\u001b[0mcolor_func\u001b[0m\u001b[0;34m=\u001b[0m\u001b[0mimage_colors\u001b[0m\u001b[0;34m)\u001b[0m\u001b[0;34m)\u001b[0m\u001b[0;34m\u001b[0m\u001b[0;34m\u001b[0m\u001b[0m\n",
      "\u001b[0;31mNameError\u001b[0m: name 'char_mask' is not defined"
     ]
    }
   ],
   "source": []
  },
  {
   "cell_type": "code",
   "execution_count": null,
   "metadata": {},
   "outputs": [],
   "source": []
  }
 ],
 "metadata": {
  "kernelspec": {
   "display_name": "Python 3",
   "language": "python",
   "name": "python3"
  },
  "language_info": {
   "codemirror_mode": {
    "name": "ipython",
    "version": 3
   },
   "file_extension": ".py",
   "mimetype": "text/x-python",
   "name": "python",
   "nbconvert_exporter": "python",
   "pygments_lexer": "ipython3",
   "version": "3.7.1"
  }
 },
 "nbformat": 4,
 "nbformat_minor": 2
}
